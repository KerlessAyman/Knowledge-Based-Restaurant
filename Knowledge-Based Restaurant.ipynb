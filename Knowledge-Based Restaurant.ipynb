{
 "cells": [
  {
   "cell_type": "markdown",
   "id": "b3477ed2",
   "metadata": {},
   "source": [
    "# Phase 1: Data Ingestion and Preprocessing"
   ]
  },
  {
   "cell_type": "markdown",
   "id": "e8aab94d",
   "metadata": {},
   "source": [
    "Load the Dataset"
   ]
  },
  {
   "cell_type": "code",
   "execution_count": 1,
   "id": "2f0cbe2e",
   "metadata": {},
   "outputs": [],
   "source": [
    "import pandas as pd\n",
    "df = pd.read_csv('zomato.csv', encoding='latin-1')"
   ]
  },
  {
   "cell_type": "markdown",
   "id": "f04a1f8e",
   "metadata": {},
   "source": [
    "Clean the Data"
   ]
  },
  {
   "cell_type": "code",
   "execution_count": 6,
   "id": "aa8dfc56",
   "metadata": {},
   "outputs": [
    {
     "name": "stdout",
     "output_type": "stream",
     "text": [
      "['Restaurant Name', 'City', 'Locality', 'Longitude', 'Latitude', 'Cuisines', 'Average Cost for two', 'Currency', 'Has Table booking', 'Has Online delivery', 'Is delivering now', 'Price range', 'Aggregate rating', 'Votes']\n"
     ]
    }
   ],
   "source": [
    "print(df.columns.tolist())"
   ]
  },
  {
   "cell_type": "code",
   "execution_count": 5,
   "id": "39da04a6",
   "metadata": {},
   "outputs": [],
   "source": [
    "# Drop unnecessary columns\n",
    "df.drop(columns=[\n",
    "    'Restaurant ID',\n",
    "    'Country Code',\n",
    "    'Address',\n",
    "    'Locality Verbose',\n",
    "    'Switch to order menu',\n",
    "    'Rating color',\n",
    "    'Rating text'\n",
    "], inplace=True, errors='ignore')\n",
    "\n",
    "# Drop duplicates\n",
    "df.drop_duplicates(inplace=True)\n",
    "\n",
    "# Drop rows with missing important info (note the correct column names)\n",
    "df.dropna(subset=['Cuisines', 'Locality', 'Average Cost for two', 'Aggregate rating'], inplace=True)\n"
   ]
  },
  {
   "cell_type": "markdown",
   "id": "2283ba64",
   "metadata": {},
   "source": [
    "Normalize Categorical Values"
   ]
  },
  {
   "cell_type": "code",
   "execution_count": 8,
   "id": "ee91decb",
   "metadata": {},
   "outputs": [],
   "source": [
    "# Normalize cuisine text\n",
    "df['Cuisines'] = df['Cuisines'].str.lower().str.strip()\n",
    "\n",
    "df['Cuisines'] = df['Cuisines'].str.replace('chinese food', 'chinese', regex=False)\n",
    "df['Cuisines'] = df['Cuisines'].str.replace('italian cuisine', 'italian', regex=False)\n",
    "df['Cuisines'] = df['Cuisines'].str.replace('north indian', 'indian', regex=False)\n",
    "df['Cuisines'] = df['Cuisines'].str.replace('south indian', 'indian', regex=False)\n"
   ]
  },
  {
   "cell_type": "markdown",
   "id": "cd8441c5",
   "metadata": {},
   "source": [
    "Convert Numeric Fields"
   ]
  },
  {
   "cell_type": "code",
   "execution_count": 10,
   "id": "128296f1",
   "metadata": {},
   "outputs": [],
   "source": [
    "df['Aggregate rating'] = pd.to_numeric(df['Aggregate rating'], errors='coerce')"
   ]
  },
  {
   "cell_type": "markdown",
   "id": "da2283af",
   "metadata": {},
   "source": [
    "#  Phase 2: Recommendation Engine"
   ]
  },
  {
   "cell_type": "markdown",
   "id": "3d78d5ca",
   "metadata": {},
   "source": [
    "Feature Engineering"
   ]
  },
  {
   "cell_type": "code",
   "execution_count": 12,
   "id": "f83d7f2d",
   "metadata": {},
   "outputs": [],
   "source": [
    "def cost_bucket(x):\n",
    "    if x < 300:\n",
    "        return 'Low'\n",
    "    elif x <= 700:\n",
    "        return 'Medium'\n",
    "    else:\n",
    "        return 'High'\n",
    "\n",
    "df['cost_category'] = df['Average Cost for two'].apply(cost_bucket)\n"
   ]
  },
  {
   "cell_type": "code",
   "execution_count": 14,
   "id": "a9e461c2",
   "metadata": {},
   "outputs": [],
   "source": [
    "df['primary_cuisine'] = df['Cuisines'].apply(lambda x: x.split(',')[0].strip() if pd.notnull(x) else x)"
   ]
  },
  {
   "cell_type": "markdown",
   "id": "4973aebc",
   "metadata": {},
   "source": [
    "Filtering and Ranking"
   ]
  },
  {
   "cell_type": "code",
   "execution_count": 15,
   "id": "90fba0c5",
   "metadata": {},
   "outputs": [],
   "source": [
    "def filter_and_rank(user_cuisine, user_budget, user_location, top_n=10):\n",
    "    filtered = df[\n",
    "        df['primary_cuisine'].str.contains(user_cuisine.lower(), na=False) &\n",
    "        (df['cost_category'] == user_budget) &\n",
    "        (df['location'].str.contains(user_location, case=False, na=False))\n",
    "    ]\n",
    "\n",
    "    filtered['score'] = (\n",
    "        filtered['aggregate_rating'].fillna(0) * 0.7 +\n",
    "        (filtered['votes'].fillna(0) / filtered['votes'].max()) * 0.3\n",
    "    )\n",
    "\n",
    "    filtered = filtered.sort_values(by='score', ascending=False).head(top_n)\n",
    "    return filtered\n"
   ]
  },
  {
   "cell_type": "markdown",
   "id": "71ab19cf",
   "metadata": {},
   "source": [
    "Explanation Generator"
   ]
  },
  {
   "cell_type": "code",
   "execution_count": 16,
   "id": "8229867a",
   "metadata": {},
   "outputs": [],
   "source": [
    "def explain(row):\n",
    "    return f\"Matched on {row['primary_cuisine']} cuisine and ₹{row['average_cost_for_two']} budget with {row['aggregate_rating']} rating\""
   ]
  }
 ],
 "metadata": {
  "kernelspec": {
   "display_name": "base",
   "language": "python",
   "name": "python3"
  },
  "language_info": {
   "codemirror_mode": {
    "name": "ipython",
    "version": 3
   },
   "file_extension": ".py",
   "mimetype": "text/x-python",
   "name": "python",
   "nbconvert_exporter": "python",
   "pygments_lexer": "ipython3",
   "version": "3.12.3"
  }
 },
 "nbformat": 4,
 "nbformat_minor": 5
}
